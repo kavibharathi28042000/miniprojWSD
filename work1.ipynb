{
 "cells": [
  {
   "cell_type": "code",
   "execution_count": 3,
   "metadata": {},
   "outputs": [],
   "source": [
    "import numpy as np \n",
    "import pandas as pd"
   ]
  },
  {
   "cell_type": "code",
   "execution_count": 4,
   "metadata": {},
   "outputs": [
    {
     "name": "stderr",
     "output_type": "stream",
     "text": [
      "[nltk_data] Downloading package punkt to\n",
      "[nltk_data]     C:\\Users\\lenovo\\AppData\\Roaming\\nltk_data...\n",
      "[nltk_data]   Package punkt is already up-to-date!\n"
     ]
    }
   ],
   "source": [
    "import os\n",
    "\n",
    "import nltk\n",
    "nltk.download('punkt')\n",
    "from nltk.corpus import wordnet as wn\n",
    "from nltk.tokenize import RegexpTokenizer\n",
    "\n",
    "from nltk.corpus import stopwords\n",
    "from nltk.stem import WordNetLemmatizer"
   ]
  },
  {
   "cell_type": "code",
   "execution_count": 1,
   "metadata": {},
   "outputs": [
    {
     "name": "stdout",
     "output_type": "stream",
     "text": [
      "Enter the sentence :i deposited money in the bank yesterday\n"
     ]
    }
   ],
   "source": [
    "str=input(\"Enter the sentence :\")"
   ]
  },
  {
   "cell_type": "code",
   "execution_count": 5,
   "metadata": {},
   "outputs": [
    {
     "name": "stdout",
     "output_type": "stream",
     "text": [
      "i deposited money in the bank yesterday\n"
     ]
    }
   ],
   "source": [
    "\n",
    "sentences = nltk.sent_tokenize(str.lower())\n",
    "for sentence in sentences:\n",
    "    print(sentence)"
   ]
  },
  {
   "cell_type": "code",
   "execution_count": 6,
   "metadata": {},
   "outputs": [],
   "source": [
    "def removePunctuation(sentences):\n",
    "    \n",
    "    tt=\"\"\n",
    "    sentences2=[]\n",
    "    for x in sentences:\n",
    "        tokenizer = RegexpTokenizer('\\w+')\n",
    "        text2=tokenizer.tokenize(x)\n",
    "       \n",
    "        cnt=1\n",
    "        for x2 in text2:\n",
    "            if cnt==1:\n",
    "                tt+=x2\n",
    "                cnt=0\n",
    "            else:\n",
    "                tt+=\" \"+x2    \n",
    "        sentences2.append(tt)\n",
    "        tt=\"\"\n",
    "    return sentences2\n",
    "    "
   ]
  },
  {
   "cell_type": "code",
   "execution_count": 7,
   "metadata": {},
   "outputs": [
    {
     "data": {
      "text/plain": [
       "['i deposited money in the bank yesterday']"
      ]
     },
     "execution_count": 7,
     "metadata": {},
     "output_type": "execute_result"
    }
   ],
   "source": [
    "sentences2=removePunctuation(sentences)\n",
    "sentences2"
   ]
  },
  {
   "cell_type": "code",
   "execution_count": 8,
   "metadata": {},
   "outputs": [
    {
     "name": "stderr",
     "output_type": "stream",
     "text": [
      "[nltk_data] Downloading package stopwords to\n",
      "[nltk_data]     C:\\Users\\lenovo\\AppData\\Roaming\\nltk_data...\n",
      "[nltk_data]   Package stopwords is already up-to-date!\n"
     ]
    },
    {
     "data": {
      "text/plain": [
       "[['deposited', 'money', 'bank', 'yesterday']]"
      ]
     },
     "execution_count": 8,
     "metadata": {},
     "output_type": "execute_result"
    }
   ],
   "source": [
    "nltk.download('stopwords')\n",
    "def stopWords(sentences2):\n",
    "    stop_words = set(stopwords.words(\"english\"))\n",
    "    context_tab=[]\n",
    "    for sentence in sentences2:\n",
    "        words = nltk.word_tokenize(sentence)\n",
    "        without_stop_words = [word for word in words if not word in stop_words]\n",
    "        context_tab.append(without_stop_words)\n",
    "    return context_tab \n",
    "    \n",
    "   \n",
    "context_tab =stopWords(sentences2)\n",
    "context_tab"
   ]
  },
  {
   "cell_type": "code",
   "execution_count": 9,
   "metadata": {},
   "outputs": [
    {
     "name": "stderr",
     "output_type": "stream",
     "text": [
      "[nltk_data] Downloading package wordnet to\n",
      "[nltk_data]     C:\\Users\\lenovo\\AppData\\Roaming\\nltk_data...\n",
      "[nltk_data]   Package wordnet is already up-to-date!\n"
     ]
    },
    {
     "data": {
      "text/plain": [
       "[['deposit', 'money', 'bank', 'yesterday']]"
      ]
     },
     "execution_count": 9,
     "metadata": {},
     "output_type": "execute_result"
    }
   ],
   "source": [
    "nltk.download('wordnet')\n",
    "def lemmatization(context_tab):\n",
    "    lemma=[]\n",
    "    wl=WordNetLemmatizer()\n",
    "    for x in context_tab:\n",
    "        m2=[]\n",
    "        for x2 in x:\n",
    "            x3=wl.lemmatize(x2,wn.VERB)\n",
    "            x3=wl.lemmatize(x3,wn.NOUN)\n",
    "            x3=wl.lemmatize(x3,wn.ADJ)\n",
    "            x3=wl.lemmatize(x3,wn.ADV)\n",
    "            m2.append(x3)\n",
    "        lemma.append(m2)\n",
    "    return lemma\n",
    "    \n",
    "    \n",
    "lemma=lemmatization(context_tab)\n",
    "lemma"
   ]
  }
 ],
 "metadata": {
  "kernelspec": {
   "display_name": "Python 3",
   "language": "python",
   "name": "python3"
  },
  "language_info": {
   "codemirror_mode": {
    "name": "ipython",
    "version": 3
   },
   "file_extension": ".py",
   "mimetype": "text/x-python",
   "name": "python",
   "nbconvert_exporter": "python",
   "pygments_lexer": "ipython3",
   "version": "3.7.6"
  }
 },
 "nbformat": 4,
 "nbformat_minor": 4
}
